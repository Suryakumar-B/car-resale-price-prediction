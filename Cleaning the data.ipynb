{
  "nbformat": 4,
  "nbformat_minor": 0,
  "metadata": {
    "colab": {
      "provenance": [],
      "toc_visible": true
    },
    "kernelspec": {
      "name": "python3",
      "display_name": "Python 3"
    },
    "language_info": {
      "name": "python"
    }
  },
  "cells": [
    {
      "cell_type": "code",
      "execution_count": null,
      "metadata": {
        "id": "AIEZ9Wx0mnem"
      },
      "outputs": [],
      "source": [
        "import pandas as pd\n",
        "import numpy as np\n",
        "import scipy.stats as stats\n",
        "import seaborn as sns\n",
        "import matplotlib.pyplot as plt"
      ]
    },
    {
      "cell_type": "code",
      "source": [
        "data=pd.read_csv('/content/drive/MyDrive/Colab Notebooks/vehicles.csv')\n",
        "data.head()"
      ],
      "metadata": {
        "colab": {
          "base_uri": "https://localhost:8080/",
          "height": 334
        },
        "id": "OPOBWbXNmqE2",
        "outputId": "fec26a7a-6496-4141-98c6-dae96f2242d1"
      },
      "execution_count": null,
      "outputs": [
        {
          "output_type": "execute_result",
          "data": {
            "text/plain": [
              "           id                                                url  \\\n",
              "0  7222695916  https://prescott.craigslist.org/cto/d/prescott...   \n",
              "1  7218891961  https://fayar.craigslist.org/ctd/d/bentonville...   \n",
              "2  7221797935  https://keys.craigslist.org/cto/d/summerland-k...   \n",
              "3  7222270760  https://worcester.craigslist.org/cto/d/west-br...   \n",
              "4  7210384030  https://greensboro.craigslist.org/cto/d/trinit...   \n",
              "\n",
              "                   region                         region_url  price  year  \\\n",
              "0                prescott    https://prescott.craigslist.org   6000   NaN   \n",
              "1            fayetteville       https://fayar.craigslist.org  11900   NaN   \n",
              "2            florida keys        https://keys.craigslist.org  21000   NaN   \n",
              "3  worcester / central MA   https://worcester.craigslist.org   1500   NaN   \n",
              "4              greensboro  https://greensboro.craigslist.org   4900   NaN   \n",
              "\n",
              "  manufacturer model condition cylinders  ... size  type paint_color  \\\n",
              "0          NaN   NaN       NaN       NaN  ...  NaN   NaN         NaN   \n",
              "1          NaN   NaN       NaN       NaN  ...  NaN   NaN         NaN   \n",
              "2          NaN   NaN       NaN       NaN  ...  NaN   NaN         NaN   \n",
              "3          NaN   NaN       NaN       NaN  ...  NaN   NaN         NaN   \n",
              "4          NaN   NaN       NaN       NaN  ...  NaN   NaN         NaN   \n",
              "\n",
              "  image_url description county state lat long posting_date  \n",
              "0       NaN         NaN    NaN    az NaN  NaN          NaN  \n",
              "1       NaN         NaN    NaN    ar NaN  NaN          NaN  \n",
              "2       NaN         NaN    NaN    fl NaN  NaN          NaN  \n",
              "3       NaN         NaN    NaN    ma NaN  NaN          NaN  \n",
              "4       NaN         NaN    NaN    nc NaN  NaN          NaN  \n",
              "\n",
              "[5 rows x 26 columns]"
            ],
            "text/html": [
              "\n",
              "  <div id=\"df-8e0b4093-f43e-4b91-a4c2-c58f0f897d8f\">\n",
              "    <div class=\"colab-df-container\">\n",
              "      <div>\n",
              "<style scoped>\n",
              "    .dataframe tbody tr th:only-of-type {\n",
              "        vertical-align: middle;\n",
              "    }\n",
              "\n",
              "    .dataframe tbody tr th {\n",
              "        vertical-align: top;\n",
              "    }\n",
              "\n",
              "    .dataframe thead th {\n",
              "        text-align: right;\n",
              "    }\n",
              "</style>\n",
              "<table border=\"1\" class=\"dataframe\">\n",
              "  <thead>\n",
              "    <tr style=\"text-align: right;\">\n",
              "      <th></th>\n",
              "      <th>id</th>\n",
              "      <th>url</th>\n",
              "      <th>region</th>\n",
              "      <th>region_url</th>\n",
              "      <th>price</th>\n",
              "      <th>year</th>\n",
              "      <th>manufacturer</th>\n",
              "      <th>model</th>\n",
              "      <th>condition</th>\n",
              "      <th>cylinders</th>\n",
              "      <th>...</th>\n",
              "      <th>size</th>\n",
              "      <th>type</th>\n",
              "      <th>paint_color</th>\n",
              "      <th>image_url</th>\n",
              "      <th>description</th>\n",
              "      <th>county</th>\n",
              "      <th>state</th>\n",
              "      <th>lat</th>\n",
              "      <th>long</th>\n",
              "      <th>posting_date</th>\n",
              "    </tr>\n",
              "  </thead>\n",
              "  <tbody>\n",
              "    <tr>\n",
              "      <th>0</th>\n",
              "      <td>7222695916</td>\n",
              "      <td>https://prescott.craigslist.org/cto/d/prescott...</td>\n",
              "      <td>prescott</td>\n",
              "      <td>https://prescott.craigslist.org</td>\n",
              "      <td>6000</td>\n",
              "      <td>NaN</td>\n",
              "      <td>NaN</td>\n",
              "      <td>NaN</td>\n",
              "      <td>NaN</td>\n",
              "      <td>NaN</td>\n",
              "      <td>...</td>\n",
              "      <td>NaN</td>\n",
              "      <td>NaN</td>\n",
              "      <td>NaN</td>\n",
              "      <td>NaN</td>\n",
              "      <td>NaN</td>\n",
              "      <td>NaN</td>\n",
              "      <td>az</td>\n",
              "      <td>NaN</td>\n",
              "      <td>NaN</td>\n",
              "      <td>NaN</td>\n",
              "    </tr>\n",
              "    <tr>\n",
              "      <th>1</th>\n",
              "      <td>7218891961</td>\n",
              "      <td>https://fayar.craigslist.org/ctd/d/bentonville...</td>\n",
              "      <td>fayetteville</td>\n",
              "      <td>https://fayar.craigslist.org</td>\n",
              "      <td>11900</td>\n",
              "      <td>NaN</td>\n",
              "      <td>NaN</td>\n",
              "      <td>NaN</td>\n",
              "      <td>NaN</td>\n",
              "      <td>NaN</td>\n",
              "      <td>...</td>\n",
              "      <td>NaN</td>\n",
              "      <td>NaN</td>\n",
              "      <td>NaN</td>\n",
              "      <td>NaN</td>\n",
              "      <td>NaN</td>\n",
              "      <td>NaN</td>\n",
              "      <td>ar</td>\n",
              "      <td>NaN</td>\n",
              "      <td>NaN</td>\n",
              "      <td>NaN</td>\n",
              "    </tr>\n",
              "    <tr>\n",
              "      <th>2</th>\n",
              "      <td>7221797935</td>\n",
              "      <td>https://keys.craigslist.org/cto/d/summerland-k...</td>\n",
              "      <td>florida keys</td>\n",
              "      <td>https://keys.craigslist.org</td>\n",
              "      <td>21000</td>\n",
              "      <td>NaN</td>\n",
              "      <td>NaN</td>\n",
              "      <td>NaN</td>\n",
              "      <td>NaN</td>\n",
              "      <td>NaN</td>\n",
              "      <td>...</td>\n",
              "      <td>NaN</td>\n",
              "      <td>NaN</td>\n",
              "      <td>NaN</td>\n",
              "      <td>NaN</td>\n",
              "      <td>NaN</td>\n",
              "      <td>NaN</td>\n",
              "      <td>fl</td>\n",
              "      <td>NaN</td>\n",
              "      <td>NaN</td>\n",
              "      <td>NaN</td>\n",
              "    </tr>\n",
              "    <tr>\n",
              "      <th>3</th>\n",
              "      <td>7222270760</td>\n",
              "      <td>https://worcester.craigslist.org/cto/d/west-br...</td>\n",
              "      <td>worcester / central MA</td>\n",
              "      <td>https://worcester.craigslist.org</td>\n",
              "      <td>1500</td>\n",
              "      <td>NaN</td>\n",
              "      <td>NaN</td>\n",
              "      <td>NaN</td>\n",
              "      <td>NaN</td>\n",
              "      <td>NaN</td>\n",
              "      <td>...</td>\n",
              "      <td>NaN</td>\n",
              "      <td>NaN</td>\n",
              "      <td>NaN</td>\n",
              "      <td>NaN</td>\n",
              "      <td>NaN</td>\n",
              "      <td>NaN</td>\n",
              "      <td>ma</td>\n",
              "      <td>NaN</td>\n",
              "      <td>NaN</td>\n",
              "      <td>NaN</td>\n",
              "    </tr>\n",
              "    <tr>\n",
              "      <th>4</th>\n",
              "      <td>7210384030</td>\n",
              "      <td>https://greensboro.craigslist.org/cto/d/trinit...</td>\n",
              "      <td>greensboro</td>\n",
              "      <td>https://greensboro.craigslist.org</td>\n",
              "      <td>4900</td>\n",
              "      <td>NaN</td>\n",
              "      <td>NaN</td>\n",
              "      <td>NaN</td>\n",
              "      <td>NaN</td>\n",
              "      <td>NaN</td>\n",
              "      <td>...</td>\n",
              "      <td>NaN</td>\n",
              "      <td>NaN</td>\n",
              "      <td>NaN</td>\n",
              "      <td>NaN</td>\n",
              "      <td>NaN</td>\n",
              "      <td>NaN</td>\n",
              "      <td>nc</td>\n",
              "      <td>NaN</td>\n",
              "      <td>NaN</td>\n",
              "      <td>NaN</td>\n",
              "    </tr>\n",
              "  </tbody>\n",
              "</table>\n",
              "<p>5 rows × 26 columns</p>\n",
              "</div>\n",
              "      <button class=\"colab-df-convert\" onclick=\"convertToInteractive('df-8e0b4093-f43e-4b91-a4c2-c58f0f897d8f')\"\n",
              "              title=\"Convert this dataframe to an interactive table.\"\n",
              "              style=\"display:none;\">\n",
              "        \n",
              "  <svg xmlns=\"http://www.w3.org/2000/svg\" height=\"24px\"viewBox=\"0 0 24 24\"\n",
              "       width=\"24px\">\n",
              "    <path d=\"M0 0h24v24H0V0z\" fill=\"none\"/>\n",
              "    <path d=\"M18.56 5.44l.94 2.06.94-2.06 2.06-.94-2.06-.94-.94-2.06-.94 2.06-2.06.94zm-11 1L8.5 8.5l.94-2.06 2.06-.94-2.06-.94L8.5 2.5l-.94 2.06-2.06.94zm10 10l.94 2.06.94-2.06 2.06-.94-2.06-.94-.94-2.06-.94 2.06-2.06.94z\"/><path d=\"M17.41 7.96l-1.37-1.37c-.4-.4-.92-.59-1.43-.59-.52 0-1.04.2-1.43.59L10.3 9.45l-7.72 7.72c-.78.78-.78 2.05 0 2.83L4 21.41c.39.39.9.59 1.41.59.51 0 1.02-.2 1.41-.59l7.78-7.78 2.81-2.81c.8-.78.8-2.07 0-2.86zM5.41 20L4 18.59l7.72-7.72 1.47 1.35L5.41 20z\"/>\n",
              "  </svg>\n",
              "      </button>\n",
              "      \n",
              "  <style>\n",
              "    .colab-df-container {\n",
              "      display:flex;\n",
              "      flex-wrap:wrap;\n",
              "      gap: 12px;\n",
              "    }\n",
              "\n",
              "    .colab-df-convert {\n",
              "      background-color: #E8F0FE;\n",
              "      border: none;\n",
              "      border-radius: 50%;\n",
              "      cursor: pointer;\n",
              "      display: none;\n",
              "      fill: #1967D2;\n",
              "      height: 32px;\n",
              "      padding: 0 0 0 0;\n",
              "      width: 32px;\n",
              "    }\n",
              "\n",
              "    .colab-df-convert:hover {\n",
              "      background-color: #E2EBFA;\n",
              "      box-shadow: 0px 1px 2px rgba(60, 64, 67, 0.3), 0px 1px 3px 1px rgba(60, 64, 67, 0.15);\n",
              "      fill: #174EA6;\n",
              "    }\n",
              "\n",
              "    [theme=dark] .colab-df-convert {\n",
              "      background-color: #3B4455;\n",
              "      fill: #D2E3FC;\n",
              "    }\n",
              "\n",
              "    [theme=dark] .colab-df-convert:hover {\n",
              "      background-color: #434B5C;\n",
              "      box-shadow: 0px 1px 3px 1px rgba(0, 0, 0, 0.15);\n",
              "      filter: drop-shadow(0px 1px 2px rgba(0, 0, 0, 0.3));\n",
              "      fill: #FFFFFF;\n",
              "    }\n",
              "  </style>\n",
              "\n",
              "      <script>\n",
              "        const buttonEl =\n",
              "          document.querySelector('#df-8e0b4093-f43e-4b91-a4c2-c58f0f897d8f button.colab-df-convert');\n",
              "        buttonEl.style.display =\n",
              "          google.colab.kernel.accessAllowed ? 'block' : 'none';\n",
              "\n",
              "        async function convertToInteractive(key) {\n",
              "          const element = document.querySelector('#df-8e0b4093-f43e-4b91-a4c2-c58f0f897d8f');\n",
              "          const dataTable =\n",
              "            await google.colab.kernel.invokeFunction('convertToInteractive',\n",
              "                                                     [key], {});\n",
              "          if (!dataTable) return;\n",
              "\n",
              "          const docLinkHtml = 'Like what you see? Visit the ' +\n",
              "            '<a target=\"_blank\" href=https://colab.research.google.com/notebooks/data_table.ipynb>data table notebook</a>'\n",
              "            + ' to learn more about interactive tables.';\n",
              "          element.innerHTML = '';\n",
              "          dataTable['output_type'] = 'display_data';\n",
              "          await google.colab.output.renderOutput(dataTable, element);\n",
              "          const docLink = document.createElement('div');\n",
              "          docLink.innerHTML = docLinkHtml;\n",
              "          element.appendChild(docLink);\n",
              "        }\n",
              "      </script>\n",
              "    </div>\n",
              "  </div>\n",
              "  "
            ]
          },
          "metadata": {},
          "execution_count": 3
        }
      ]
    },
    {
      "cell_type": "code",
      "source": [
        "data.shape"
      ],
      "metadata": {
        "colab": {
          "base_uri": "https://localhost:8080/"
        },
        "id": "UVQWJGCtm_0S",
        "outputId": "4e726cb9-9257-459c-c9e8-794eef81f795"
      },
      "execution_count": null,
      "outputs": [
        {
          "output_type": "execute_result",
          "data": {
            "text/plain": [
              "(426880, 26)"
            ]
          },
          "metadata": {},
          "execution_count": 4
        }
      ]
    },
    {
      "cell_type": "code",
      "source": [
        "data.info()"
      ],
      "metadata": {
        "colab": {
          "base_uri": "https://localhost:8080/"
        },
        "id": "eExRkiaAnFAy",
        "outputId": "3ee0d45c-1b11-4199-d486-cdb85f24c487"
      },
      "execution_count": null,
      "outputs": [
        {
          "output_type": "stream",
          "name": "stdout",
          "text": [
            "<class 'pandas.core.frame.DataFrame'>\n",
            "RangeIndex: 426880 entries, 0 to 426879\n",
            "Data columns (total 26 columns):\n",
            " #   Column        Non-Null Count   Dtype  \n",
            "---  ------        --------------   -----  \n",
            " 0   id            426880 non-null  int64  \n",
            " 1   url           426880 non-null  object \n",
            " 2   region        426880 non-null  object \n",
            " 3   region_url    426880 non-null  object \n",
            " 4   price         426880 non-null  int64  \n",
            " 5   year          425675 non-null  float64\n",
            " 6   manufacturer  409234 non-null  object \n",
            " 7   model         421603 non-null  object \n",
            " 8   condition     252776 non-null  object \n",
            " 9   cylinders     249202 non-null  object \n",
            " 10  fuel          423867 non-null  object \n",
            " 11  odometer      422480 non-null  float64\n",
            " 12  title_status  418638 non-null  object \n",
            " 13  transmission  424324 non-null  object \n",
            " 14  VIN           265838 non-null  object \n",
            " 15  drive         296313 non-null  object \n",
            " 16  size          120519 non-null  object \n",
            " 17  type          334022 non-null  object \n",
            " 18  paint_color   296677 non-null  object \n",
            " 19  image_url     426812 non-null  object \n",
            " 20  description   426810 non-null  object \n",
            " 21  county        0 non-null       float64\n",
            " 22  state         426880 non-null  object \n",
            " 23  lat           420331 non-null  float64\n",
            " 24  long          420331 non-null  float64\n",
            " 25  posting_date  426812 non-null  object \n",
            "dtypes: float64(5), int64(2), object(19)\n",
            "memory usage: 84.7+ MB\n"
          ]
        }
      ]
    },
    {
      "cell_type": "code",
      "source": [
        "data.isna().sum()/len(data)*100"
      ],
      "metadata": {
        "colab": {
          "base_uri": "https://localhost:8080/"
        },
        "id": "ro13WrejnHti",
        "outputId": "59f934e7-7f29-4d99-a1ad-36766740e6a5"
      },
      "execution_count": null,
      "outputs": [
        {
          "output_type": "execute_result",
          "data": {
            "text/plain": [
              "id                0.000000\n",
              "url               0.000000\n",
              "region            0.000000\n",
              "region_url        0.000000\n",
              "price             0.000000\n",
              "year              0.282281\n",
              "manufacturer      4.133714\n",
              "model             1.236179\n",
              "condition        40.785232\n",
              "cylinders        41.622470\n",
              "fuel              0.705819\n",
              "odometer          1.030735\n",
              "title_status      1.930753\n",
              "transmission      0.598763\n",
              "VIN              37.725356\n",
              "drive            30.586347\n",
              "size             71.767476\n",
              "type             21.752717\n",
              "paint_color      30.501078\n",
              "image_url         0.015930\n",
              "description       0.016398\n",
              "county          100.000000\n",
              "state             0.000000\n",
              "lat               1.534155\n",
              "long              1.534155\n",
              "posting_date      0.015930\n",
              "dtype: float64"
            ]
          },
          "metadata": {},
          "execution_count": 20
        }
      ]
    },
    {
      "cell_type": "code",
      "source": [
        "df=data.drop(['id',\"url\",'region_url','county','VIN','lat','long','image_url'],axis=1)"
      ],
      "metadata": {
        "id": "uLwHjok7nNmi"
      },
      "execution_count": null,
      "outputs": []
    },
    {
      "cell_type": "code",
      "source": [
        "df.duplicated().sum()"
      ],
      "metadata": {
        "colab": {
          "base_uri": "https://localhost:8080/"
        },
        "id": "tj5AT5JdnVvO",
        "outputId": "62b3bd2a-ffc2-4e76-d34d-d142552cfda6"
      },
      "execution_count": null,
      "outputs": [
        {
          "output_type": "execute_result",
          "data": {
            "text/plain": [
              "20"
            ]
          },
          "metadata": {},
          "execution_count": 22
        }
      ]
    },
    {
      "cell_type": "code",
      "source": [
        "df[\"size\"].unique()"
      ],
      "metadata": {
        "colab": {
          "base_uri": "https://localhost:8080/"
        },
        "id": "WZvO19v6xurh",
        "outputId": "65cf41a7-384c-43ce-e3ab-34dd0646feb9"
      },
      "execution_count": null,
      "outputs": [
        {
          "output_type": "execute_result",
          "data": {
            "text/plain": [
              "array([nan, 'full-size', 'mid-size', 'compact', 'sub-compact'],\n",
              "      dtype=object)"
            ]
          },
          "metadata": {},
          "execution_count": 18
        }
      ]
    },
    {
      "cell_type": "code",
      "source": [
        "df=df.drop_duplicates(keep='first')"
      ],
      "metadata": {
        "id": "h_wvdFyHnZLt"
      },
      "execution_count": null,
      "outputs": []
    },
    {
      "cell_type": "code",
      "source": [
        "manufacturers = '(gmc | hyundai | toyota | mitsubishi | ford | chevrolet | ram | buick | jeep | dodge | subaru | nissan | audi | rover  | lexus \\\n",
        "| honda | chrysler | mini | pontiac | mercedes-benz | cadillac | bmw | kia | volvo | volkswagen | jaguar | acura | saturn | mazda | \\\n",
        "mercury | lincoln | infiniti | ferrari | fiat | tesla | land rover | harley-davidson | datsun | alfa-romeo | morgan | aston-martin | porche \\\n",
        "| hennessey)'\n",
        "conditions = '(excellent | good | fair | like new | salvage | new)'\n",
        "fuels = '(gas | hybrid | diesel |electric)'\n",
        "title_statuss = '(clean | lien | rebuilt | salvage | missing | parts only)'\n",
        "transmissions = '(automatic | manual)'\n",
        "drives = '(4x4 | awd | fwd | rwd | 4wd)'\n",
        "sizes = '(mid-size | full-size | compact | sub-compact)'\n",
        "type_s = '(sedan | truck | SUV | mini-van | wagon | hatchback | coupe | pickup | convertible | van | bus | offroad)'\n",
        "paint_colors = '(red | grey | blue | white | custom | silver | brown | black | purple | green | orange | yellow)'\n",
        "cylinderss = '(\\s[1-9] cylinders? |\\s1[0-6]? cylinders?)'"
      ],
      "metadata": {
        "id": "bqLCwAXinfGO"
      },
      "execution_count": null,
      "outputs": []
    },
    {
      "cell_type": "code",
      "source": [
        "keys =    ['manufacturer', 'condition', 'fuel', 'title_status', 'transmission', 'drive','size', 'type', 'paint_color' , 'cylinders']\n",
        "columns = [ manufacturer,   condition,   fuel,  title_status, transmission ,drive, size, type_, paint_color,   cylinders]"
      ],
      "metadata": {
        "id": "3tA3UJN_np6P"
      },
      "execution_count": null,
      "outputs": []
    },
    {
      "cell_type": "code",
      "source": [
        "import re"
      ],
      "metadata": {
        "id": "9EziSaAMns0O"
      },
      "execution_count": null,
      "outputs": []
    },
    {
      "cell_type": "code",
      "source": [
        "for i,column in zip(keys,columns):\n",
        "    df[i] = df[i].fillna(\n",
        "      df['description'].str.extract(column, flags=re.IGNORECASE, expand=False)).str.lower()"
      ],
      "metadata": {
        "id": "Kkme1Jp_nu41"
      },
      "execution_count": null,
      "outputs": []
    },
    {
      "cell_type": "code",
      "source": [
        "  df.drop('description', axis=1, inplace= True)"
      ],
      "metadata": {
        "id": "fpdPsspNnxVm"
      },
      "execution_count": null,
      "outputs": []
    },
    {
      "cell_type": "code",
      "source": [
        "for i in keys:\n",
        "  print(df[i].unique())"
      ],
      "metadata": {
        "colab": {
          "base_uri": "https://localhost:8080/"
        },
        "id": "OYVyr2fCn28A",
        "outputId": "611ba060-5253-4ba7-90fb-a9690b1e058b"
      },
      "execution_count": null,
      "outputs": [
        {
          "output_type": "stream",
          "name": "stdout",
          "text": [
            "[nan 'gmc' 'chevrolet' 'toyota' 'ford' 'jeep' 'nissan' 'ram' 'mazda'\n",
            " 'cadillac' 'honda' 'dodge' 'lexus' 'jaguar' 'buick' 'chrysler' 'volvo'\n",
            " 'audi' 'infiniti' 'lincoln' 'alfa-romeo' 'subaru' 'acura' 'hyundai'\n",
            " 'mercedes-benz' 'bmw' 'mitsubishi' 'volkswagen' 'porsche' 'kia'\n",
            " ' cadillac ' 'gmc ' ' ford ' 'rover' 'ferrari' 'mini' ' bmw ' 'pontiac'\n",
            " 'fiat' ' jaguar ' ' hyundai ' ' mini ' ' mercedes-benz ' ' toyota '\n",
            " ' dodge ' ' mazda ' 'tesla' 'saturn' ' buick ' 'mercury' ' ram '\n",
            " ' chevrolet ' ' jeep ' ' volkswagen ' ' morgan ' ' lincoln ' ' lexus '\n",
            " ' kia ' ' pontiac ' 'harley-davidson' ' honda ' ' volvo ' ' chrysler '\n",
            " ' nissan ' ' mercury ' 'datsun' ' audi ' ' ferrari ' ' subaru ' ' acura '\n",
            " ' infiniti ' ' fiat ' 'aston-martin' ' datsun ' ' land rover '\n",
            " 'land rover' ' mitsubishi ' ' tesla ' ' hennessey' ' saturn ' 'morgan'\n",
            " ' porche ' ' harley-davidson ']\n",
            "[nan 'good' 'excellent' 'fair' ' good ' 'like new' 'new' ' new' ' fair '\n",
            " ' like new ' 'excellent ' 'salvage' ' salvage ']\n",
            "[nan 'gas' 'other' 'diesel' 'hybrid' 'electric' ' diesel ' ' hybrid '\n",
            " 'gas ']\n",
            "[nan 'clean' 'rebuilt' 'lien' 'salvage' 'missing' 'clean ' 'parts only'\n",
            " ' salvage ' ' rebuilt ' ' parts only']\n",
            "[nan 'other' 'automatic' 'manual' 'automatic ' ' manual']\n",
            "[nan 'rwd' '4wd' 'fwd' '4x4 ' ' awd ' ' 4wd' ' rwd ' ' fwd ']\n",
            "[nan 'full-size' 'mid-size' 'compact' ' compact ' 'sub-compact'\n",
            " ' full-size ' 'mid-size ' ' sub-compact']\n",
            "[nan 'pickup' 'truck' 'other' 'coupe' 'suv' 'hatchback' 'mini-van' 'sedan'\n",
            " ' wagon ' 'offroad' 'bus' 'van' 'convertible' ' suv ' ' truck '\n",
            " ' pickup ' 'wagon' ' coupe ' ' van ' ' convertible ' 'sedan ' ' offroad'\n",
            " ' bus ' ' hatchback ' ' mini-van ']\n",
            "[nan 'white' 'blue' 'red' 'black' 'silver' 'grey' 'red ' 'brown' 'yellow'\n",
            " 'orange' 'green' ' black ' ' blue ' ' purple ' ' silver ' ' custom '\n",
            " 'custom' ' white ' ' brown ' ' grey ' ' orange ' ' green ' 'purple'\n",
            " ' yellow']\n",
            "[nan '8 cylinders' '6 cylinders' '4 cylinders' '5 cylinders' 'other'\n",
            " ' 4 cylinder ' '3 cylinders' ' 5 cylinder ' '10 cylinders' '12 cylinders'\n",
            " ' 6 cylinder ' ' 8 cylinder ' ' 8 cylinders ' ' 6 cylinders '\n",
            " ' 4 cylinders ' ' 5 cylinders ' ' 3 cylinder ' ' 2 cylinders '\n",
            " '\\t4 cylinder ' ' 10 cylinder' ' 12 cylinders' ' 2 cylinder '\n",
            " ' 12 cylinder' ' 7 cylinders ' ' 10 cylinders' ' 1 cylinder ']\n"
          ]
        }
      ]
    },
    {
      "cell_type": "code",
      "source": [
        "for i in keys:\n",
        "  df[i]=df[i].str.strip()"
      ],
      "metadata": {
        "id": "chqyVzX-n7R_"
      },
      "execution_count": null,
      "outputs": []
    },
    {
      "cell_type": "code",
      "source": [
        "for i in keys:\n",
        "  print(df[i].unique())"
      ],
      "metadata": {
        "colab": {
          "base_uri": "https://localhost:8080/"
        },
        "id": "g9jFXY5qn-Pf",
        "outputId": "5eb2e3e1-ac13-4432-98d6-012b427abd8d"
      },
      "execution_count": null,
      "outputs": [
        {
          "output_type": "stream",
          "name": "stdout",
          "text": [
            "[nan 'gmc' 'chevrolet' 'toyota' 'ford' 'jeep' 'nissan' 'ram' 'mazda'\n",
            " 'cadillac' 'honda' 'dodge' 'lexus' 'jaguar' 'buick' 'chrysler' 'volvo'\n",
            " 'audi' 'infiniti' 'lincoln' 'alfa-romeo' 'subaru' 'acura' 'hyundai'\n",
            " 'mercedes-benz' 'bmw' 'mitsubishi' 'volkswagen' 'porsche' 'kia' 'rover'\n",
            " 'ferrari' 'mini' 'pontiac' 'fiat' 'tesla' 'saturn' 'mercury' 'morgan'\n",
            " 'harley-davidson' 'datsun' 'aston-martin' 'land rover' 'hennessey'\n",
            " 'porche']\n",
            "[nan 'good' 'excellent' 'fair' 'like new' 'new' 'salvage']\n",
            "[nan 'gas' 'other' 'diesel' 'hybrid' 'electric']\n",
            "[nan 'clean' 'rebuilt' 'lien' 'salvage' 'missing' 'parts only']\n",
            "[nan 'other' 'automatic' 'manual']\n",
            "[nan 'rwd' '4wd' 'fwd' '4x4' 'awd']\n",
            "[nan 'full-size' 'mid-size' 'compact' 'sub-compact']\n",
            "[nan 'pickup' 'truck' 'other' 'coupe' 'suv' 'hatchback' 'mini-van' 'sedan'\n",
            " 'wagon' 'offroad' 'bus' 'van' 'convertible']\n",
            "[nan 'white' 'blue' 'red' 'black' 'silver' 'grey' 'brown' 'yellow'\n",
            " 'orange' 'green' 'purple' 'custom']\n",
            "[nan '8 cylinders' '6 cylinders' '4 cylinders' '5 cylinders' 'other'\n",
            " '4 cylinder' '3 cylinders' '5 cylinder' '10 cylinders' '12 cylinders'\n",
            " '6 cylinder' '8 cylinder' '3 cylinder' '2 cylinders' '10 cylinder'\n",
            " '2 cylinder' '12 cylinder' '7 cylinders' '1 cylinder']\n"
          ]
        }
      ]
    },
    {
      "cell_type": "code",
      "source": [
        "df.isna().sum()/len(df)*100"
      ],
      "metadata": {
        "colab": {
          "base_uri": "https://localhost:8080/"
        },
        "id": "EgkLJruhqAKe",
        "outputId": "006996fa-ea69-4235-e99b-6bedb4f5e478"
      },
      "execution_count": null,
      "outputs": [
        {
          "output_type": "execute_result",
          "data": {
            "text/plain": [
              "region           0.000000\n",
              "price            0.000000\n",
              "year             0.279717\n",
              "manufacturer     2.834185\n",
              "model            1.233660\n",
              "condition       19.517875\n",
              "cylinders       39.411282\n",
              "fuel             0.482125\n",
              "odometer         1.028206\n",
              "title_status     1.509160\n",
              "transmission     0.381155\n",
              "drive           23.033782\n",
              "size            67.702760\n",
              "type            13.400881\n",
              "paint_color     11.994565\n",
              "state            0.000000\n",
              "posting_date     0.013353\n",
              "dtype: float64"
            ]
          },
          "metadata": {},
          "execution_count": 33
        }
      ]
    },
    {
      "cell_type": "code",
      "source": [
        "df.shape"
      ],
      "metadata": {
        "colab": {
          "base_uri": "https://localhost:8080/"
        },
        "id": "szIah_PlrLo6",
        "outputId": "f07a637b-0283-4887-d591-7a2a1bee012e"
      },
      "execution_count": null,
      "outputs": [
        {
          "output_type": "execute_result",
          "data": {
            "text/plain": [
              "(426860, 17)"
            ]
          },
          "metadata": {},
          "execution_count": 34
        }
      ]
    },
    {
      "cell_type": "code",
      "source": [
        "df.dropna(axis=0,how='all',inplace=True)"
      ],
      "metadata": {
        "id": "vWLWFK9NqGj9"
      },
      "execution_count": null,
      "outputs": []
    },
    {
      "cell_type": "markdown",
      "source": [],
      "metadata": {
        "id": "rD3T3zp_1DHy"
      }
    },
    {
      "cell_type": "code",
      "source": [
        "df.dropna(subset=['year','manufacturer','model','fuel','odometer','title_status','transmission','posting_date'],axis=0,inplace=True)"
      ],
      "metadata": {
        "id": "QN3xGn4ANxWg"
      },
      "execution_count": null,
      "outputs": []
    },
    {
      "cell_type": "code",
      "source": [
        "df.isna().sum()/len(df)*100"
      ],
      "metadata": {
        "colab": {
          "base_uri": "https://localhost:8080/"
        },
        "id": "pSvZzMwt1y4L",
        "outputId": "e5d2074a-3567-4f50-eb6f-692de00fc94f"
      },
      "execution_count": null,
      "outputs": [
        {
          "output_type": "execute_result",
          "data": {
            "text/plain": [
              "region           0.000000\n",
              "price            0.000000\n",
              "year             0.000000\n",
              "manufacturer     0.000000\n",
              "model            0.000000\n",
              "condition       19.491301\n",
              "cylinders       39.087222\n",
              "fuel             0.000000\n",
              "odometer         0.000000\n",
              "title_status     0.000000\n",
              "transmission     0.000000\n",
              "drive           22.160141\n",
              "size            67.023995\n",
              "type            13.156438\n",
              "paint_color     11.598499\n",
              "state            0.000000\n",
              "posting_date     0.000000\n",
              "dtype: float64"
            ]
          },
          "metadata": {},
          "execution_count": 39
        }
      ]
    },
    {
      "cell_type": "code",
      "source": [],
      "metadata": {
        "id": "uKUOpfIr2KpX"
      },
      "execution_count": null,
      "outputs": []
    },
    {
      "cell_type": "code",
      "source": [
        "df.drop(columns=[\"size\"],axis=1,inplace=True)"
      ],
      "metadata": {
        "id": "udqCBfMy17Sk"
      },
      "execution_count": null,
      "outputs": []
    },
    {
      "cell_type": "code",
      "source": [
        "df[df.drive.isna()].model.value_counts()"
      ],
      "metadata": {
        "colab": {
          "base_uri": "https://localhost:8080/"
        },
        "id": "nxF5q-T32LtI",
        "outputId": "908e8270-f308-4dee-c0be-7eb0924880b2"
      },
      "execution_count": null,
      "outputs": [
        {
          "output_type": "execute_result",
          "data": {
            "text/plain": [
              "accord                867\n",
              "altima                778\n",
              "civic                 776\n",
              "camry                 674\n",
              "mustang               642\n",
              "                     ... \n",
              "3500 big horn           1\n",
              "f2 50 xtl long bed      1\n",
              "camaro 1ss              1\n",
              "sunfire se              1\n",
              "apache 10               1\n",
              "Name: model, Length: 8100, dtype: int64"
            ]
          },
          "metadata": {},
          "execution_count": 43
        }
      ]
    },
    {
      "cell_type": "code",
      "source": [
        "df[df.model=='civic'].drive.value_counts()"
      ],
      "metadata": {
        "colab": {
          "base_uri": "https://localhost:8080/"
        },
        "id": "HqnQy_7k2WzT",
        "outputId": "c8a09b54-0d00-48bf-b434-f45cc396a0aa"
      },
      "execution_count": null,
      "outputs": [
        {
          "output_type": "execute_result",
          "data": {
            "text/plain": [
              "fwd    1924\n",
              "4wd      25\n",
              "rwd      14\n",
              "4x4       7\n",
              "awd       2\n",
              "Name: drive, dtype: int64"
            ]
          },
          "metadata": {},
          "execution_count": 49
        }
      ]
    },
    {
      "cell_type": "code",
      "source": [
        "df[df.model=='camry'].drive.value_counts()"
      ],
      "metadata": {
        "colab": {
          "base_uri": "https://localhost:8080/"
        },
        "id": "fy-xkZfL3XdH",
        "outputId": "621aeae1-febf-4ff5-a7e8-ddcbdae0d884"
      },
      "execution_count": null,
      "outputs": [
        {
          "output_type": "execute_result",
          "data": {
            "text/plain": [
              "fwd    2309\n",
              "4wd      34\n",
              "rwd      25\n",
              "4x4      10\n",
              "awd       2\n",
              "Name: drive, dtype: int64"
            ]
          },
          "metadata": {},
          "execution_count": 50
        }
      ]
    },
    {
      "cell_type": "code",
      "source": [
        "df.sort_values(by=['model','year'],inplace=True)\n",
        "df.fillna(method='ffill')"
      ],
      "metadata": {
        "id": "Yn9eF_s13hTE"
      },
      "execution_count": null,
      "outputs": []
    },
    {
      "cell_type": "code",
      "source": [
        "df.sort_values(by=['model','year'],inplace=True)"
      ],
      "metadata": {
        "id": "hHp2T19g4WwP"
      },
      "execution_count": null,
      "outputs": []
    },
    {
      "cell_type": "code",
      "source": [
        "df[df.cylinders.isna()]"
      ],
      "metadata": {
        "colab": {
          "base_uri": "https://localhost:8080/",
          "height": 922
        },
        "id": "6TDLiAdX4FeE",
        "outputId": "3902495e-8168-447a-dec8-25fb1382e00d"
      },
      "execution_count": null,
      "outputs": [
        {
          "output_type": "execute_result",
          "data": {
            "text/plain": [
              "                          region  price    year manufacturer  \\\n",
              "404088  kennewick-pasco-richland      0  2009.0          kia   \n",
              "363492                    austin      0  2014.0         ford   \n",
              "364165                    austin      0  2014.0         ford   \n",
              "365172                    austin      0  2014.0         ford   \n",
              "365777                    austin      0  2014.0         ford   \n",
              "...                          ...    ...     ...          ...   \n",
              "333086              philadelphia   3999  2006.0      lincoln   \n",
              "196706             detroit metro   5000  2007.0      lincoln   \n",
              "386641                 st george   4000  1995.0         jeep   \n",
              "140276                   chicago    699  2014.0          kia   \n",
              "214748     minneapolis / st paul    500  2020.0         ford   \n",
              "\n",
              "                               model  condition cylinders fuel  odometer  \\\n",
              "404088                       ,,,,,,,        NaN       NaN  gas       1.0   \n",
              "363492  ,2012,2013, SOME 2014 MODELS   like new       NaN  gas   89000.0   \n",
              "364165  ,2012,2013, SOME 2014 MODELS   like new       NaN  gas   42000.0   \n",
              "365172  ,2012,2013, SOME 2014 MODELS   like new       NaN  gas   89000.0   \n",
              "365777  ,2012,2013, SOME 2014 MODELS   like new       NaN  gas   42000.0   \n",
              "...                              ...        ...       ...  ...       ...   \n",
              "333086                        zephyr  excellent       NaN  gas  130198.0   \n",
              "196706                        zephyr        NaN       NaN  gas  135000.0   \n",
              "386641                            zj        new       NaN  gas  157602.0   \n",
              "140276                  ​​sorento lx   like new       NaN  gas  104175.0   \n",
              "214748          ♦ALL TADES WELCOME!♦  excellent       NaN  gas    2020.0   \n",
              "\n",
              "       title_status transmission drive   type paint_color state  \\\n",
              "404088        clean    automatic   NaN    NaN         NaN    wa   \n",
              "363492        clean    automatic   NaN    NaN         NaN    tx   \n",
              "364165        clean    automatic   NaN    NaN         NaN    tx   \n",
              "365172        clean    automatic   NaN    NaN         NaN    tx   \n",
              "365777        clean    automatic   NaN    NaN         NaN    tx   \n",
              "...             ...          ...   ...    ...         ...   ...   \n",
              "333086        clean    automatic   fwd  sedan         NaN    pa   \n",
              "196706        clean    automatic   NaN    NaN      silver    mi   \n",
              "386641        clean    automatic   4x4    NaN         NaN    ut   \n",
              "140276        clean    automatic   NaN  truck         NaN    il   \n",
              "214748        clean        other   4x4  truck         NaN    mn   \n",
              "\n",
              "                    posting_date  \n",
              "404088  2021-04-20T13:20:33-0700  \n",
              "363492  2021-05-04T17:34:38-0500  \n",
              "364165  2021-05-01T16:13:33-0500  \n",
              "365172  2021-04-27T14:33:12-0500  \n",
              "365777  2021-04-24T12:05:07-0500  \n",
              "...                          ...  \n",
              "333086  2021-04-30T17:00:50-0400  \n",
              "196706  2021-05-03T10:41:25-0400  \n",
              "386641  2021-04-14T09:46:47-0600  \n",
              "140276  2021-05-04T09:02:08-0500  \n",
              "214748  2021-05-03T12:23:54-0500  \n",
              "\n",
              "[154674 rows x 16 columns]"
            ],
            "text/html": [
              "\n",
              "  <div id=\"df-065badef-b994-48e2-a367-983f85c01725\">\n",
              "    <div class=\"colab-df-container\">\n",
              "      <div>\n",
              "<style scoped>\n",
              "    .dataframe tbody tr th:only-of-type {\n",
              "        vertical-align: middle;\n",
              "    }\n",
              "\n",
              "    .dataframe tbody tr th {\n",
              "        vertical-align: top;\n",
              "    }\n",
              "\n",
              "    .dataframe thead th {\n",
              "        text-align: right;\n",
              "    }\n",
              "</style>\n",
              "<table border=\"1\" class=\"dataframe\">\n",
              "  <thead>\n",
              "    <tr style=\"text-align: right;\">\n",
              "      <th></th>\n",
              "      <th>region</th>\n",
              "      <th>price</th>\n",
              "      <th>year</th>\n",
              "      <th>manufacturer</th>\n",
              "      <th>model</th>\n",
              "      <th>condition</th>\n",
              "      <th>cylinders</th>\n",
              "      <th>fuel</th>\n",
              "      <th>odometer</th>\n",
              "      <th>title_status</th>\n",
              "      <th>transmission</th>\n",
              "      <th>drive</th>\n",
              "      <th>type</th>\n",
              "      <th>paint_color</th>\n",
              "      <th>state</th>\n",
              "      <th>posting_date</th>\n",
              "    </tr>\n",
              "  </thead>\n",
              "  <tbody>\n",
              "    <tr>\n",
              "      <th>404088</th>\n",
              "      <td>kennewick-pasco-richland</td>\n",
              "      <td>0</td>\n",
              "      <td>2009.0</td>\n",
              "      <td>kia</td>\n",
              "      <td>,,,,,,,</td>\n",
              "      <td>NaN</td>\n",
              "      <td>NaN</td>\n",
              "      <td>gas</td>\n",
              "      <td>1.0</td>\n",
              "      <td>clean</td>\n",
              "      <td>automatic</td>\n",
              "      <td>NaN</td>\n",
              "      <td>NaN</td>\n",
              "      <td>NaN</td>\n",
              "      <td>wa</td>\n",
              "      <td>2021-04-20T13:20:33-0700</td>\n",
              "    </tr>\n",
              "    <tr>\n",
              "      <th>363492</th>\n",
              "      <td>austin</td>\n",
              "      <td>0</td>\n",
              "      <td>2014.0</td>\n",
              "      <td>ford</td>\n",
              "      <td>,2012,2013, SOME 2014 MODELS</td>\n",
              "      <td>like new</td>\n",
              "      <td>NaN</td>\n",
              "      <td>gas</td>\n",
              "      <td>89000.0</td>\n",
              "      <td>clean</td>\n",
              "      <td>automatic</td>\n",
              "      <td>NaN</td>\n",
              "      <td>NaN</td>\n",
              "      <td>NaN</td>\n",
              "      <td>tx</td>\n",
              "      <td>2021-05-04T17:34:38-0500</td>\n",
              "    </tr>\n",
              "    <tr>\n",
              "      <th>364165</th>\n",
              "      <td>austin</td>\n",
              "      <td>0</td>\n",
              "      <td>2014.0</td>\n",
              "      <td>ford</td>\n",
              "      <td>,2012,2013, SOME 2014 MODELS</td>\n",
              "      <td>like new</td>\n",
              "      <td>NaN</td>\n",
              "      <td>gas</td>\n",
              "      <td>42000.0</td>\n",
              "      <td>clean</td>\n",
              "      <td>automatic</td>\n",
              "      <td>NaN</td>\n",
              "      <td>NaN</td>\n",
              "      <td>NaN</td>\n",
              "      <td>tx</td>\n",
              "      <td>2021-05-01T16:13:33-0500</td>\n",
              "    </tr>\n",
              "    <tr>\n",
              "      <th>365172</th>\n",
              "      <td>austin</td>\n",
              "      <td>0</td>\n",
              "      <td>2014.0</td>\n",
              "      <td>ford</td>\n",
              "      <td>,2012,2013, SOME 2014 MODELS</td>\n",
              "      <td>like new</td>\n",
              "      <td>NaN</td>\n",
              "      <td>gas</td>\n",
              "      <td>89000.0</td>\n",
              "      <td>clean</td>\n",
              "      <td>automatic</td>\n",
              "      <td>NaN</td>\n",
              "      <td>NaN</td>\n",
              "      <td>NaN</td>\n",
              "      <td>tx</td>\n",
              "      <td>2021-04-27T14:33:12-0500</td>\n",
              "    </tr>\n",
              "    <tr>\n",
              "      <th>365777</th>\n",
              "      <td>austin</td>\n",
              "      <td>0</td>\n",
              "      <td>2014.0</td>\n",
              "      <td>ford</td>\n",
              "      <td>,2012,2013, SOME 2014 MODELS</td>\n",
              "      <td>like new</td>\n",
              "      <td>NaN</td>\n",
              "      <td>gas</td>\n",
              "      <td>42000.0</td>\n",
              "      <td>clean</td>\n",
              "      <td>automatic</td>\n",
              "      <td>NaN</td>\n",
              "      <td>NaN</td>\n",
              "      <td>NaN</td>\n",
              "      <td>tx</td>\n",
              "      <td>2021-04-24T12:05:07-0500</td>\n",
              "    </tr>\n",
              "    <tr>\n",
              "      <th>...</th>\n",
              "      <td>...</td>\n",
              "      <td>...</td>\n",
              "      <td>...</td>\n",
              "      <td>...</td>\n",
              "      <td>...</td>\n",
              "      <td>...</td>\n",
              "      <td>...</td>\n",
              "      <td>...</td>\n",
              "      <td>...</td>\n",
              "      <td>...</td>\n",
              "      <td>...</td>\n",
              "      <td>...</td>\n",
              "      <td>...</td>\n",
              "      <td>...</td>\n",
              "      <td>...</td>\n",
              "      <td>...</td>\n",
              "    </tr>\n",
              "    <tr>\n",
              "      <th>333086</th>\n",
              "      <td>philadelphia</td>\n",
              "      <td>3999</td>\n",
              "      <td>2006.0</td>\n",
              "      <td>lincoln</td>\n",
              "      <td>zephyr</td>\n",
              "      <td>excellent</td>\n",
              "      <td>NaN</td>\n",
              "      <td>gas</td>\n",
              "      <td>130198.0</td>\n",
              "      <td>clean</td>\n",
              "      <td>automatic</td>\n",
              "      <td>fwd</td>\n",
              "      <td>sedan</td>\n",
              "      <td>NaN</td>\n",
              "      <td>pa</td>\n",
              "      <td>2021-04-30T17:00:50-0400</td>\n",
              "    </tr>\n",
              "    <tr>\n",
              "      <th>196706</th>\n",
              "      <td>detroit metro</td>\n",
              "      <td>5000</td>\n",
              "      <td>2007.0</td>\n",
              "      <td>lincoln</td>\n",
              "      <td>zephyr</td>\n",
              "      <td>NaN</td>\n",
              "      <td>NaN</td>\n",
              "      <td>gas</td>\n",
              "      <td>135000.0</td>\n",
              "      <td>clean</td>\n",
              "      <td>automatic</td>\n",
              "      <td>NaN</td>\n",
              "      <td>NaN</td>\n",
              "      <td>silver</td>\n",
              "      <td>mi</td>\n",
              "      <td>2021-05-03T10:41:25-0400</td>\n",
              "    </tr>\n",
              "    <tr>\n",
              "      <th>386641</th>\n",
              "      <td>st george</td>\n",
              "      <td>4000</td>\n",
              "      <td>1995.0</td>\n",
              "      <td>jeep</td>\n",
              "      <td>zj</td>\n",
              "      <td>new</td>\n",
              "      <td>NaN</td>\n",
              "      <td>gas</td>\n",
              "      <td>157602.0</td>\n",
              "      <td>clean</td>\n",
              "      <td>automatic</td>\n",
              "      <td>4x4</td>\n",
              "      <td>NaN</td>\n",
              "      <td>NaN</td>\n",
              "      <td>ut</td>\n",
              "      <td>2021-04-14T09:46:47-0600</td>\n",
              "    </tr>\n",
              "    <tr>\n",
              "      <th>140276</th>\n",
              "      <td>chicago</td>\n",
              "      <td>699</td>\n",
              "      <td>2014.0</td>\n",
              "      <td>kia</td>\n",
              "      <td>​​sorento lx</td>\n",
              "      <td>like new</td>\n",
              "      <td>NaN</td>\n",
              "      <td>gas</td>\n",
              "      <td>104175.0</td>\n",
              "      <td>clean</td>\n",
              "      <td>automatic</td>\n",
              "      <td>NaN</td>\n",
              "      <td>truck</td>\n",
              "      <td>NaN</td>\n",
              "      <td>il</td>\n",
              "      <td>2021-05-04T09:02:08-0500</td>\n",
              "    </tr>\n",
              "    <tr>\n",
              "      <th>214748</th>\n",
              "      <td>minneapolis / st paul</td>\n",
              "      <td>500</td>\n",
              "      <td>2020.0</td>\n",
              "      <td>ford</td>\n",
              "      <td>♦ALL TADES WELCOME!♦</td>\n",
              "      <td>excellent</td>\n",
              "      <td>NaN</td>\n",
              "      <td>gas</td>\n",
              "      <td>2020.0</td>\n",
              "      <td>clean</td>\n",
              "      <td>other</td>\n",
              "      <td>4x4</td>\n",
              "      <td>truck</td>\n",
              "      <td>NaN</td>\n",
              "      <td>mn</td>\n",
              "      <td>2021-05-03T12:23:54-0500</td>\n",
              "    </tr>\n",
              "  </tbody>\n",
              "</table>\n",
              "<p>154674 rows × 16 columns</p>\n",
              "</div>\n",
              "      <button class=\"colab-df-convert\" onclick=\"convertToInteractive('df-065badef-b994-48e2-a367-983f85c01725')\"\n",
              "              title=\"Convert this dataframe to an interactive table.\"\n",
              "              style=\"display:none;\">\n",
              "        \n",
              "  <svg xmlns=\"http://www.w3.org/2000/svg\" height=\"24px\"viewBox=\"0 0 24 24\"\n",
              "       width=\"24px\">\n",
              "    <path d=\"M0 0h24v24H0V0z\" fill=\"none\"/>\n",
              "    <path d=\"M18.56 5.44l.94 2.06.94-2.06 2.06-.94-2.06-.94-.94-2.06-.94 2.06-2.06.94zm-11 1L8.5 8.5l.94-2.06 2.06-.94-2.06-.94L8.5 2.5l-.94 2.06-2.06.94zm10 10l.94 2.06.94-2.06 2.06-.94-2.06-.94-.94-2.06-.94 2.06-2.06.94z\"/><path d=\"M17.41 7.96l-1.37-1.37c-.4-.4-.92-.59-1.43-.59-.52 0-1.04.2-1.43.59L10.3 9.45l-7.72 7.72c-.78.78-.78 2.05 0 2.83L4 21.41c.39.39.9.59 1.41.59.51 0 1.02-.2 1.41-.59l7.78-7.78 2.81-2.81c.8-.78.8-2.07 0-2.86zM5.41 20L4 18.59l7.72-7.72 1.47 1.35L5.41 20z\"/>\n",
              "  </svg>\n",
              "      </button>\n",
              "      \n",
              "  <style>\n",
              "    .colab-df-container {\n",
              "      display:flex;\n",
              "      flex-wrap:wrap;\n",
              "      gap: 12px;\n",
              "    }\n",
              "\n",
              "    .colab-df-convert {\n",
              "      background-color: #E8F0FE;\n",
              "      border: none;\n",
              "      border-radius: 50%;\n",
              "      cursor: pointer;\n",
              "      display: none;\n",
              "      fill: #1967D2;\n",
              "      height: 32px;\n",
              "      padding: 0 0 0 0;\n",
              "      width: 32px;\n",
              "    }\n",
              "\n",
              "    .colab-df-convert:hover {\n",
              "      background-color: #E2EBFA;\n",
              "      box-shadow: 0px 1px 2px rgba(60, 64, 67, 0.3), 0px 1px 3px 1px rgba(60, 64, 67, 0.15);\n",
              "      fill: #174EA6;\n",
              "    }\n",
              "\n",
              "    [theme=dark] .colab-df-convert {\n",
              "      background-color: #3B4455;\n",
              "      fill: #D2E3FC;\n",
              "    }\n",
              "\n",
              "    [theme=dark] .colab-df-convert:hover {\n",
              "      background-color: #434B5C;\n",
              "      box-shadow: 0px 1px 3px 1px rgba(0, 0, 0, 0.15);\n",
              "      filter: drop-shadow(0px 1px 2px rgba(0, 0, 0, 0.3));\n",
              "      fill: #FFFFFF;\n",
              "    }\n",
              "  </style>\n",
              "\n",
              "      <script>\n",
              "        const buttonEl =\n",
              "          document.querySelector('#df-065badef-b994-48e2-a367-983f85c01725 button.colab-df-convert');\n",
              "        buttonEl.style.display =\n",
              "          google.colab.kernel.accessAllowed ? 'block' : 'none';\n",
              "\n",
              "        async function convertToInteractive(key) {\n",
              "          const element = document.querySelector('#df-065badef-b994-48e2-a367-983f85c01725');\n",
              "          const dataTable =\n",
              "            await google.colab.kernel.invokeFunction('convertToInteractive',\n",
              "                                                     [key], {});\n",
              "          if (!dataTable) return;\n",
              "\n",
              "          const docLinkHtml = 'Like what you see? Visit the ' +\n",
              "            '<a target=\"_blank\" href=https://colab.research.google.com/notebooks/data_table.ipynb>data table notebook</a>'\n",
              "            + ' to learn more about interactive tables.';\n",
              "          element.innerHTML = '';\n",
              "          dataTable['output_type'] = 'display_data';\n",
              "          await google.colab.output.renderOutput(dataTable, element);\n",
              "          const docLink = document.createElement('div');\n",
              "          docLink.innerHTML = docLinkHtml;\n",
              "          element.appendChild(docLink);\n",
              "        }\n",
              "      </script>\n",
              "    </div>\n",
              "  </div>\n",
              "  "
            ]
          },
          "metadata": {},
          "execution_count": 55
        }
      ]
    },
    {
      "cell_type": "code",
      "source": [
        "df.shape"
      ],
      "metadata": {
        "colab": {
          "base_uri": "https://localhost:8080/"
        },
        "id": "kIPdP9zR6Dju",
        "outputId": "0a131e5c-d710-4f83-d951-8b2953bd94b1"
      },
      "execution_count": null,
      "outputs": [
        {
          "output_type": "execute_result",
          "data": {
            "text/plain": [
              "(395715, 16)"
            ]
          },
          "metadata": {},
          "execution_count": 63
        }
      ]
    },
    {
      "cell_type": "code",
      "source": [
        "df.dropna(subset=[\"cylinders\",\"type\",\"drive\"],axis=0,inplace=True,how=\"all\")"
      ],
      "metadata": {
        "id": "8ce2p1J44X4T"
      },
      "execution_count": null,
      "outputs": []
    },
    {
      "cell_type": "code",
      "source": [
        "df.shape"
      ],
      "metadata": {
        "colab": {
          "base_uri": "https://localhost:8080/"
        },
        "id": "9QvwBEvX6G-D",
        "outputId": "60470e80-e684-4b1d-eb17-64b22563b7dc"
      },
      "execution_count": null,
      "outputs": [
        {
          "output_type": "execute_result",
          "data": {
            "text/plain": [
              "(372174, 16)"
            ]
          },
          "metadata": {},
          "execution_count": 65
        }
      ]
    },
    {
      "cell_type": "code",
      "source": [
        "df.head()"
      ],
      "metadata": {
        "colab": {
          "base_uri": "https://localhost:8080/",
          "height": 461
        },
        "id": "xpGfPpXk6Qo1",
        "outputId": "21ea0bdb-770f-42bb-f366-bf595f97fea9"
      },
      "execution_count": null,
      "outputs": [
        {
          "output_type": "execute_result",
          "data": {
            "text/plain": [
              "                    region  price    year   manufacturer  \\\n",
              "317864              eugene  27000  1913.0           ford   \n",
              "384480                waco  24900  2018.0  mercedes-benz   \n",
              "396112            richmond   3045  2006.0      chevrolet   \n",
              "221214  southeast missouri  17500  1955.0      chevrolet   \n",
              "276912       new york city   9000  2006.0       chrysler   \n",
              "\n",
              "                                                    model condition  \\\n",
              "317864                                                \"t\"  like new   \n",
              "384480  $362.47, $1000 down, oac, 2.9%apr $362.47,luxu...       NaN   \n",
              "396112                                           & altima      good   \n",
              "221214                                              (210)      fair   \n",
              "276912                                              (300)      good   \n",
              "\n",
              "          cylinders fuel   odometer title_status transmission drive  \\\n",
              "317864  4 cylinders  gas  9999999.0        clean        other   rwd   \n",
              "384480  4 cylinders  gas    40556.0        clean    automatic   rwd   \n",
              "396112  6 cylinders  gas   110160.0        clean    automatic   4wd   \n",
              "221214  8 cylinders  gas     3193.0        clean    automatic   rwd   \n",
              "276912  8 cylinders  gas    14000.0        clean    automatic   4wd   \n",
              "\n",
              "               type paint_color state              posting_date  \n",
              "317864  convertible         red    or  2021-04-22T09:50:49-0700  \n",
              "384480        sedan       black    tx  2021-04-27T18:44:18-0500  \n",
              "396112     mini-van       black    va  2021-04-30T06:06:04-0400  \n",
              "221214        sedan        blue    mo  2021-04-30T17:51:54-0500  \n",
              "276912        other       white    ny  2021-05-01T08:14:24-0400  "
            ],
            "text/html": [
              "\n",
              "  <div id=\"df-36d67caa-7e24-4d60-9dc6-13ba71b1a4db\">\n",
              "    <div class=\"colab-df-container\">\n",
              "      <div>\n",
              "<style scoped>\n",
              "    .dataframe tbody tr th:only-of-type {\n",
              "        vertical-align: middle;\n",
              "    }\n",
              "\n",
              "    .dataframe tbody tr th {\n",
              "        vertical-align: top;\n",
              "    }\n",
              "\n",
              "    .dataframe thead th {\n",
              "        text-align: right;\n",
              "    }\n",
              "</style>\n",
              "<table border=\"1\" class=\"dataframe\">\n",
              "  <thead>\n",
              "    <tr style=\"text-align: right;\">\n",
              "      <th></th>\n",
              "      <th>region</th>\n",
              "      <th>price</th>\n",
              "      <th>year</th>\n",
              "      <th>manufacturer</th>\n",
              "      <th>model</th>\n",
              "      <th>condition</th>\n",
              "      <th>cylinders</th>\n",
              "      <th>fuel</th>\n",
              "      <th>odometer</th>\n",
              "      <th>title_status</th>\n",
              "      <th>transmission</th>\n",
              "      <th>drive</th>\n",
              "      <th>type</th>\n",
              "      <th>paint_color</th>\n",
              "      <th>state</th>\n",
              "      <th>posting_date</th>\n",
              "    </tr>\n",
              "  </thead>\n",
              "  <tbody>\n",
              "    <tr>\n",
              "      <th>317864</th>\n",
              "      <td>eugene</td>\n",
              "      <td>27000</td>\n",
              "      <td>1913.0</td>\n",
              "      <td>ford</td>\n",
              "      <td>\"t\"</td>\n",
              "      <td>like new</td>\n",
              "      <td>4 cylinders</td>\n",
              "      <td>gas</td>\n",
              "      <td>9999999.0</td>\n",
              "      <td>clean</td>\n",
              "      <td>other</td>\n",
              "      <td>rwd</td>\n",
              "      <td>convertible</td>\n",
              "      <td>red</td>\n",
              "      <td>or</td>\n",
              "      <td>2021-04-22T09:50:49-0700</td>\n",
              "    </tr>\n",
              "    <tr>\n",
              "      <th>384480</th>\n",
              "      <td>waco</td>\n",
              "      <td>24900</td>\n",
              "      <td>2018.0</td>\n",
              "      <td>mercedes-benz</td>\n",
              "      <td>$362.47, $1000 down, oac, 2.9%apr $362.47,luxu...</td>\n",
              "      <td>NaN</td>\n",
              "      <td>4 cylinders</td>\n",
              "      <td>gas</td>\n",
              "      <td>40556.0</td>\n",
              "      <td>clean</td>\n",
              "      <td>automatic</td>\n",
              "      <td>rwd</td>\n",
              "      <td>sedan</td>\n",
              "      <td>black</td>\n",
              "      <td>tx</td>\n",
              "      <td>2021-04-27T18:44:18-0500</td>\n",
              "    </tr>\n",
              "    <tr>\n",
              "      <th>396112</th>\n",
              "      <td>richmond</td>\n",
              "      <td>3045</td>\n",
              "      <td>2006.0</td>\n",
              "      <td>chevrolet</td>\n",
              "      <td>&amp; altima</td>\n",
              "      <td>good</td>\n",
              "      <td>6 cylinders</td>\n",
              "      <td>gas</td>\n",
              "      <td>110160.0</td>\n",
              "      <td>clean</td>\n",
              "      <td>automatic</td>\n",
              "      <td>4wd</td>\n",
              "      <td>mini-van</td>\n",
              "      <td>black</td>\n",
              "      <td>va</td>\n",
              "      <td>2021-04-30T06:06:04-0400</td>\n",
              "    </tr>\n",
              "    <tr>\n",
              "      <th>221214</th>\n",
              "      <td>southeast missouri</td>\n",
              "      <td>17500</td>\n",
              "      <td>1955.0</td>\n",
              "      <td>chevrolet</td>\n",
              "      <td>(210)</td>\n",
              "      <td>fair</td>\n",
              "      <td>8 cylinders</td>\n",
              "      <td>gas</td>\n",
              "      <td>3193.0</td>\n",
              "      <td>clean</td>\n",
              "      <td>automatic</td>\n",
              "      <td>rwd</td>\n",
              "      <td>sedan</td>\n",
              "      <td>blue</td>\n",
              "      <td>mo</td>\n",
              "      <td>2021-04-30T17:51:54-0500</td>\n",
              "    </tr>\n",
              "    <tr>\n",
              "      <th>276912</th>\n",
              "      <td>new york city</td>\n",
              "      <td>9000</td>\n",
              "      <td>2006.0</td>\n",
              "      <td>chrysler</td>\n",
              "      <td>(300)</td>\n",
              "      <td>good</td>\n",
              "      <td>8 cylinders</td>\n",
              "      <td>gas</td>\n",
              "      <td>14000.0</td>\n",
              "      <td>clean</td>\n",
              "      <td>automatic</td>\n",
              "      <td>4wd</td>\n",
              "      <td>other</td>\n",
              "      <td>white</td>\n",
              "      <td>ny</td>\n",
              "      <td>2021-05-01T08:14:24-0400</td>\n",
              "    </tr>\n",
              "  </tbody>\n",
              "</table>\n",
              "</div>\n",
              "      <button class=\"colab-df-convert\" onclick=\"convertToInteractive('df-36d67caa-7e24-4d60-9dc6-13ba71b1a4db')\"\n",
              "              title=\"Convert this dataframe to an interactive table.\"\n",
              "              style=\"display:none;\">\n",
              "        \n",
              "  <svg xmlns=\"http://www.w3.org/2000/svg\" height=\"24px\"viewBox=\"0 0 24 24\"\n",
              "       width=\"24px\">\n",
              "    <path d=\"M0 0h24v24H0V0z\" fill=\"none\"/>\n",
              "    <path d=\"M18.56 5.44l.94 2.06.94-2.06 2.06-.94-2.06-.94-.94-2.06-.94 2.06-2.06.94zm-11 1L8.5 8.5l.94-2.06 2.06-.94-2.06-.94L8.5 2.5l-.94 2.06-2.06.94zm10 10l.94 2.06.94-2.06 2.06-.94-2.06-.94-.94-2.06-.94 2.06-2.06.94z\"/><path d=\"M17.41 7.96l-1.37-1.37c-.4-.4-.92-.59-1.43-.59-.52 0-1.04.2-1.43.59L10.3 9.45l-7.72 7.72c-.78.78-.78 2.05 0 2.83L4 21.41c.39.39.9.59 1.41.59.51 0 1.02-.2 1.41-.59l7.78-7.78 2.81-2.81c.8-.78.8-2.07 0-2.86zM5.41 20L4 18.59l7.72-7.72 1.47 1.35L5.41 20z\"/>\n",
              "  </svg>\n",
              "      </button>\n",
              "      \n",
              "  <style>\n",
              "    .colab-df-container {\n",
              "      display:flex;\n",
              "      flex-wrap:wrap;\n",
              "      gap: 12px;\n",
              "    }\n",
              "\n",
              "    .colab-df-convert {\n",
              "      background-color: #E8F0FE;\n",
              "      border: none;\n",
              "      border-radius: 50%;\n",
              "      cursor: pointer;\n",
              "      display: none;\n",
              "      fill: #1967D2;\n",
              "      height: 32px;\n",
              "      padding: 0 0 0 0;\n",
              "      width: 32px;\n",
              "    }\n",
              "\n",
              "    .colab-df-convert:hover {\n",
              "      background-color: #E2EBFA;\n",
              "      box-shadow: 0px 1px 2px rgba(60, 64, 67, 0.3), 0px 1px 3px 1px rgba(60, 64, 67, 0.15);\n",
              "      fill: #174EA6;\n",
              "    }\n",
              "\n",
              "    [theme=dark] .colab-df-convert {\n",
              "      background-color: #3B4455;\n",
              "      fill: #D2E3FC;\n",
              "    }\n",
              "\n",
              "    [theme=dark] .colab-df-convert:hover {\n",
              "      background-color: #434B5C;\n",
              "      box-shadow: 0px 1px 3px 1px rgba(0, 0, 0, 0.15);\n",
              "      filter: drop-shadow(0px 1px 2px rgba(0, 0, 0, 0.3));\n",
              "      fill: #FFFFFF;\n",
              "    }\n",
              "  </style>\n",
              "\n",
              "      <script>\n",
              "        const buttonEl =\n",
              "          document.querySelector('#df-36d67caa-7e24-4d60-9dc6-13ba71b1a4db button.colab-df-convert');\n",
              "        buttonEl.style.display =\n",
              "          google.colab.kernel.accessAllowed ? 'block' : 'none';\n",
              "\n",
              "        async function convertToInteractive(key) {\n",
              "          const element = document.querySelector('#df-36d67caa-7e24-4d60-9dc6-13ba71b1a4db');\n",
              "          const dataTable =\n",
              "            await google.colab.kernel.invokeFunction('convertToInteractive',\n",
              "                                                     [key], {});\n",
              "          if (!dataTable) return;\n",
              "\n",
              "          const docLinkHtml = 'Like what you see? Visit the ' +\n",
              "            '<a target=\"_blank\" href=https://colab.research.google.com/notebooks/data_table.ipynb>data table notebook</a>'\n",
              "            + ' to learn more about interactive tables.';\n",
              "          element.innerHTML = '';\n",
              "          dataTable['output_type'] = 'display_data';\n",
              "          await google.colab.output.renderOutput(dataTable, element);\n",
              "          const docLink = document.createElement('div');\n",
              "          docLink.innerHTML = docLinkHtml;\n",
              "          element.appendChild(docLink);\n",
              "        }\n",
              "      </script>\n",
              "    </div>\n",
              "  </div>\n",
              "  "
            ]
          },
          "metadata": {},
          "execution_count": 66
        }
      ]
    },
    {
      "cell_type": "code",
      "source": [
        "df.drop(columns=['posting_date'],axis=1,inplace=True)"
      ],
      "metadata": {
        "id": "38y56Rvu6tCU"
      },
      "execution_count": null,
      "outputs": []
    },
    {
      "cell_type": "code",
      "source": [
        "df.duplicated().sum()"
      ],
      "metadata": {
        "colab": {
          "base_uri": "https://localhost:8080/"
        },
        "id": "A3PI83Qr67j4",
        "outputId": "b04a29b3-22fa-4f2d-fead-0a6f8b06844c"
      },
      "execution_count": null,
      "outputs": [
        {
          "output_type": "execute_result",
          "data": {
            "text/plain": [
              "47261"
            ]
          },
          "metadata": {},
          "execution_count": 68
        }
      ]
    },
    {
      "cell_type": "code",
      "source": [
        "df.drop_duplicates(keep=\"first\",inplace=True)"
      ],
      "metadata": {
        "id": "QJjz3jKA7BqY"
      },
      "execution_count": null,
      "outputs": []
    },
    {
      "cell_type": "code",
      "source": [
        "df.shape"
      ],
      "metadata": {
        "colab": {
          "base_uri": "https://localhost:8080/"
        },
        "id": "slfJOWmS7Jlb",
        "outputId": "2a515395-b6f2-4602-878b-fb6586655328"
      },
      "execution_count": null,
      "outputs": [
        {
          "output_type": "execute_result",
          "data": {
            "text/plain": [
              "(324913, 15)"
            ]
          },
          "metadata": {},
          "execution_count": 71
        }
      ]
    },
    {
      "cell_type": "code",
      "source": [
        "df.isna().sum()/len(df)*100"
      ],
      "metadata": {
        "colab": {
          "base_uri": "https://localhost:8080/"
        },
        "id": "TWd-AvzE7V2H",
        "outputId": "04f96584-f31a-4110-8d95-29504aa630bb"
      },
      "execution_count": null,
      "outputs": [
        {
          "output_type": "execute_result",
          "data": {
            "text/plain": [
              "region           0.000000\n",
              "price            0.000000\n",
              "year             0.000000\n",
              "manufacturer     0.000000\n",
              "model            0.000000\n",
              "condition       16.897139\n",
              "cylinders       34.681899\n",
              "fuel             0.000000\n",
              "odometer         0.000000\n",
              "title_status     0.000000\n",
              "transmission     0.000000\n",
              "drive           17.901715\n",
              "type             7.634967\n",
              "paint_color      7.731608\n",
              "state            0.000000\n",
              "dtype: float64"
            ]
          },
          "metadata": {},
          "execution_count": 75
        }
      ]
    },
    {
      "cell_type": "code",
      "source": [
        "df.fillna(value='unknown',inplace=True)"
      ],
      "metadata": {
        "id": "xOh22Xul7kWR"
      },
      "execution_count": null,
      "outputs": []
    },
    {
      "cell_type": "code",
      "source": [
        "df.isna().sum()/len(df)*100"
      ],
      "metadata": {
        "colab": {
          "base_uri": "https://localhost:8080/"
        },
        "id": "DzZr1tX-8Der",
        "outputId": "7e2df096-614d-4f31-d23b-b036473be20e"
      },
      "execution_count": null,
      "outputs": [
        {
          "output_type": "execute_result",
          "data": {
            "text/plain": [
              "region          0.0\n",
              "price           0.0\n",
              "year            0.0\n",
              "manufacturer    0.0\n",
              "model           0.0\n",
              "condition       0.0\n",
              "cylinders       0.0\n",
              "fuel            0.0\n",
              "odometer        0.0\n",
              "title_status    0.0\n",
              "transmission    0.0\n",
              "drive           0.0\n",
              "type            0.0\n",
              "paint_color     0.0\n",
              "state           0.0\n",
              "dtype: float64"
            ]
          },
          "metadata": {},
          "execution_count": 77
        }
      ]
    },
    {
      "cell_type": "code",
      "source": [],
      "metadata": {
        "id": "2atNFQoA8Jeu"
      },
      "execution_count": null,
      "outputs": []
    }
  ]
}